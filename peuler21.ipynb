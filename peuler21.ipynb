{
 "cells": [
  {
   "cell_type": "code",
   "execution_count": 1,
   "id": "43e8888c",
   "metadata": {},
   "outputs": [],
   "source": [
    "def get_divisors(n):\n",
    "    for i in range(1, int(n / 2) + 1):\n",
    "        if n % i == 0:\n",
    "            yield i\n",
    "#     yield n\n"
   ]
  },
  {
   "cell_type": "code",
   "execution_count": 2,
   "id": "10266185",
   "metadata": {},
   "outputs": [
    {
     "data": {
      "text/plain": [
       "[1, 2, 4, 5, 10, 11, 20, 22, 44, 55, 110]"
      ]
     },
     "execution_count": 2,
     "metadata": {},
     "output_type": "execute_result"
    }
   ],
   "source": [
    "list(get_divisors(220))"
   ]
  },
  {
   "cell_type": "code",
   "execution_count": 3,
   "id": "aa94c356",
   "metadata": {},
   "outputs": [
    {
     "data": {
      "text/plain": [
       "284"
      ]
     },
     "execution_count": 3,
     "metadata": {},
     "output_type": "execute_result"
    }
   ],
   "source": [
    "sum(list(get_divisors(220)))"
   ]
  },
  {
   "cell_type": "code",
   "execution_count": 10,
   "id": "a19f73a0",
   "metadata": {},
   "outputs": [],
   "source": [
    "a=set()\n",
    "for i in range(10000):\n",
    "    x=sum(list(get_divisors(i)))\n",
    "    y=sum(list(get_divisors(x)))\n",
    "    if x!=y and i==y:\n",
    "        a.add(i)\n",
    "#         a.add(x)\n",
    "    "
   ]
  },
  {
   "cell_type": "code",
   "execution_count": 11,
   "id": "996a6cc9",
   "metadata": {},
   "outputs": [
    {
     "name": "stdout",
     "output_type": "stream",
     "text": [
      "{1184, 6368, 5564, 5020, 2924, 284, 6232, 1210, 220, 2620}\n"
     ]
    }
   ],
   "source": [
    "print(a)"
   ]
  },
  {
   "cell_type": "code",
   "execution_count": 12,
   "id": "1df6ebd9",
   "metadata": {},
   "outputs": [
    {
     "data": {
      "text/plain": [
       "31626"
      ]
     },
     "execution_count": 12,
     "metadata": {},
     "output_type": "execute_result"
    }
   ],
   "source": [
    "sum(a)"
   ]
  },
  {
   "cell_type": "code",
   "execution_count": null,
   "id": "ed834b95",
   "metadata": {},
   "outputs": [],
   "source": []
  }
 ],
 "metadata": {
  "kernelspec": {
   "display_name": "Python 3 (ipykernel)",
   "language": "python",
   "name": "python3"
  },
  "language_info": {
   "codemirror_mode": {
    "name": "ipython",
    "version": 3
   },
   "file_extension": ".py",
   "mimetype": "text/x-python",
   "name": "python",
   "nbconvert_exporter": "python",
   "pygments_lexer": "ipython3",
   "version": "3.9.13"
  }
 },
 "nbformat": 4,
 "nbformat_minor": 5
}
