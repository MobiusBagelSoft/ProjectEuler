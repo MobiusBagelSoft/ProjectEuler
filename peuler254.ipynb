{
 "cells": [
  {
   "cell_type": "code",
   "execution_count": 1,
   "id": "31e5ff89",
   "metadata": {},
   "outputs": [],
   "source": [
    "import math"
   ]
  },
  {
   "cell_type": "code",
   "execution_count": 4,
   "id": "2f96e36f",
   "metadata": {},
   "outputs": [],
   "source": [
    "def f(n):\n",
    "    res = [math.factorial(int(x)) for x in str(n)]\n",
    "    return sum(list(res))"
   ]
  },
  {
   "cell_type": "code",
   "execution_count": 5,
   "id": "b53f7920",
   "metadata": {},
   "outputs": [
    {
     "data": {
      "text/plain": [
       "32"
      ]
     },
     "execution_count": 5,
     "metadata": {},
     "output_type": "execute_result"
    }
   ],
   "source": [
    "f(342)"
   ]
  },
  {
   "cell_type": "code",
   "execution_count": 9,
   "id": "9f84716c",
   "metadata": {},
   "outputs": [],
   "source": [
    "def sf(n):\n",
    "    res = [(int(x)) for x in str(f(n))]\n",
    "    return sum(list(res))"
   ]
  },
  {
   "cell_type": "code",
   "execution_count": 10,
   "id": "1ac9c6e0",
   "metadata": {},
   "outputs": [
    {
     "data": {
      "text/plain": [
       "5"
      ]
     },
     "execution_count": 10,
     "metadata": {},
     "output_type": "execute_result"
    }
   ],
   "source": [
    "sf(342)"
   ]
  },
  {
   "cell_type": "code",
   "execution_count": null,
   "id": "9fc14cc7",
   "metadata": {},
   "outputs": [],
   "source": []
  }
 ],
 "metadata": {
  "kernelspec": {
   "display_name": "Python 3 (ipykernel)",
   "language": "python",
   "name": "python3"
  },
  "language_info": {
   "codemirror_mode": {
    "name": "ipython",
    "version": 3
   },
   "file_extension": ".py",
   "mimetype": "text/x-python",
   "name": "python",
   "nbconvert_exporter": "python",
   "pygments_lexer": "ipython3",
   "version": "3.9.15"
  }
 },
 "nbformat": 4,
 "nbformat_minor": 5
}
