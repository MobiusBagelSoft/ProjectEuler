{
 "cells": [
  {
   "cell_type": "code",
   "execution_count": 17,
   "id": "46538a9f",
   "metadata": {},
   "outputs": [],
   "source": [
    "def isPrime(n) :\n",
    " \n",
    "    if (n < 2) :\n",
    "        return False\n",
    "    for i in range(2, n + 1) :\n",
    "        if (i * i <= n and n % i == 0) :\n",
    "            return False\n",
    "    return True\n",
    " \n",
    "def mobius(N) :\n",
    "     \n",
    "    # Base Case\n",
    "    if (N == 1) :\n",
    "        return 1\n",
    " \n",
    "    # For a prime factor i\n",
    "    # check if i^2 is also\n",
    "    # a factor.\n",
    "    p = 0\n",
    "    for i in range(1, N + 1) :\n",
    "        if (N % i == 0 and\n",
    "                isPrime(i)) :\n",
    " \n",
    "            # Check if N is\n",
    "            # divisible by i^2\n",
    "            if (N % (i * i) == 0) :\n",
    "                return 0\n",
    "            else :\n",
    " \n",
    "                # i occurs only once,\n",
    "                # increase f\n",
    "                p = p + 1\n",
    " \n",
    "    # All prime factors are\n",
    "    # contained only once\n",
    "    # Return 1 if p is even\n",
    "    # else -1\n",
    "    if(p % 2 != 0) :\n",
    "        return -1\n",
    "    else :\n",
    "        return 1"
   ]
  },
  {
   "cell_type": "code",
   "execution_count": 60,
   "id": "a3ae7327",
   "metadata": {},
   "outputs": [
    {
     "data": {
      "text/plain": [
       "0"
      ]
     },
     "execution_count": 60,
     "metadata": {},
     "output_type": "execute_result"
    }
   ],
   "source": [
    "mobius(4)"
   ]
  },
  {
   "cell_type": "code",
   "execution_count": 20,
   "id": "514010e6",
   "metadata": {},
   "outputs": [],
   "source": [
    "import math"
   ]
  },
  {
   "cell_type": "code",
   "execution_count": 90,
   "id": "e1a75d26",
   "metadata": {},
   "outputs": [
    {
     "name": "stdout",
     "output_type": "stream",
     "text": [
      "0\n",
      "1.0\n",
      "3.0\n",
      "7.0\n",
      "13.0\n",
      "23.0\n",
      "35.0\n",
      "53.0\n",
      "75.0\n",
      "103.0\n"
     ]
    }
   ],
   "source": [
    "# n=4\n",
    "sum=0\n",
    "for n in range(10):\n",
    "    for d in range(1,(n+1)):\n",
    "        sum=sum+(mobius(d)*math.floor(n/d)*(1+math.floor(n/d)))/2\n",
    "    print(sum)"
   ]
  },
  {
   "cell_type": "code",
   "execution_count": null,
   "id": "361c5ed8",
   "metadata": {},
   "outputs": [],
   "source": []
  }
 ],
 "metadata": {
  "kernelspec": {
   "display_name": "Python 3 (ipykernel)",
   "language": "python",
   "name": "python3"
  },
  "language_info": {
   "codemirror_mode": {
    "name": "ipython",
    "version": 3
   },
   "file_extension": ".py",
   "mimetype": "text/x-python",
   "name": "python",
   "nbconvert_exporter": "python",
   "pygments_lexer": "ipython3",
   "version": "3.9.15"
  }
 },
 "nbformat": 4,
 "nbformat_minor": 5
}
