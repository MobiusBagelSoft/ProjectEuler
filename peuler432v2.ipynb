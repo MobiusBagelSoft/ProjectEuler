{
 "cells": [
  {
   "cell_type": "code",
   "execution_count": 1,
   "id": "9e783844",
   "metadata": {},
   "outputs": [],
   "source": [
    "import sympy\n",
    "from sympy.ntheory.factor_ import totient\n",
    "from tqdm import tqdm\n",
    "import math"
   ]
  },
  {
   "cell_type": "code",
   "execution_count": 19,
   "id": "7d04e87d",
   "metadata": {},
   "outputs": [],
   "source": [
    "def isPrime(n) :\n",
    " \n",
    "    if (n < 2) :\n",
    "        return False\n",
    "    for i in range(2, n + 1) :\n",
    "        if (i * i <= n and n % i == 0) :\n",
    "            return False\n",
    "    return True\n",
    " \n",
    "def mobius(N) :\n",
    "     \n",
    "    # Base Case\n",
    "    if (N == 1) :\n",
    "        return 1\n",
    " \n",
    "    # For a prime factor i\n",
    "    # check if i^2 is also\n",
    "    # a factor.\n",
    "    p = 0\n",
    "    for i in range(1, N + 1) :\n",
    "        if (N % i == 0 and\n",
    "                isPrime(i)) :\n",
    "#             sympy.isprime(i)):\n",
    " \n",
    "            # Check if N is\n",
    "            # divisible by i^2\n",
    "            if (N % (i * i) == 0) :\n",
    "                return 0\n",
    "            else :\n",
    " \n",
    "                # i occurs only once,\n",
    "                # increase f\n",
    "                p = p + 1\n",
    " \n",
    "    # All prime factors are\n",
    "    # contained only once\n",
    "    # Return 1 if p is even\n",
    "    # else -1\n",
    "    if(p % 2 != 0) :\n",
    "        return -1\n",
    "    else :\n",
    "        return 1"
   ]
  },
  {
   "cell_type": "code",
   "execution_count": 20,
   "id": "15d7ef7b",
   "metadata": {},
   "outputs": [
    {
     "data": {
      "text/plain": [
       "-1"
      ]
     },
     "execution_count": 20,
     "metadata": {},
     "output_type": "execute_result"
    }
   ],
   "source": [
    "mobius(5)"
   ]
  },
  {
   "cell_type": "code",
   "execution_count": 21,
   "id": "2e720641",
   "metadata": {},
   "outputs": [
    {
     "name": "stderr",
     "output_type": "stream",
     "text": [
      "  0%|                                                                          | 36/1000000 [00:02<19:21:31, 14.35it/s]\n"
     ]
    },
    {
     "ename": "KeyboardInterrupt",
     "evalue": "",
     "output_type": "error",
     "traceback": [
      "\u001b[1;31m---------------------------------------------------------------------------\u001b[0m",
      "\u001b[1;31mKeyboardInterrupt\u001b[0m                         Traceback (most recent call last)",
      "Input \u001b[1;32mIn [21]\u001b[0m, in \u001b[0;36m<cell line: 4>\u001b[1;34m()\u001b[0m\n\u001b[0;32m      3\u001b[0m i\u001b[38;5;241m=\u001b[39mn\u001b[38;5;241m+\u001b[39m\u001b[38;5;241m1\u001b[39m\n\u001b[0;32m      4\u001b[0m \u001b[38;5;28;01mfor\u001b[39;00m k \u001b[38;5;129;01min\u001b[39;00m tqdm(\u001b[38;5;28mrange\u001b[39m(\u001b[38;5;241m1\u001b[39m,i)):\n\u001b[1;32m----> 5\u001b[0m     \u001b[38;5;28msum\u001b[39m\u001b[38;5;241m=\u001b[39m\u001b[38;5;28msum\u001b[39m\u001b[38;5;241m+\u001b[39m(\u001b[43mmobius\u001b[49m\u001b[43m(\u001b[49m\u001b[38;5;241;43m510510\u001b[39;49m\u001b[38;5;241;43m*\u001b[39;49m\u001b[43mk\u001b[49m\u001b[43m)\u001b[49m\u001b[38;5;241m*\u001b[39mmath\u001b[38;5;241m.\u001b[39mfloor((n)\u001b[38;5;241m/\u001b[39mk)\u001b[38;5;241m*\u001b[39m(\u001b[38;5;241m1\u001b[39m\u001b[38;5;241m+\u001b[39m(math\u001b[38;5;241m.\u001b[39mfloor((n)\u001b[38;5;241m/\u001b[39mk))))\n\u001b[0;32m      6\u001b[0m \u001b[38;5;28mprint\u001b[39m(\u001b[38;5;241m.5\u001b[39m\u001b[38;5;241m*\u001b[39m\u001b[38;5;28msum\u001b[39m)\n",
      "Input \u001b[1;32mIn [19]\u001b[0m, in \u001b[0;36mmobius\u001b[1;34m(N)\u001b[0m\n\u001b[0;32m     19\u001b[0m     p \u001b[38;5;241m=\u001b[39m \u001b[38;5;241m0\u001b[39m\n\u001b[0;32m     20\u001b[0m     \u001b[38;5;28;01mfor\u001b[39;00m i \u001b[38;5;129;01min\u001b[39;00m \u001b[38;5;28mrange\u001b[39m(\u001b[38;5;241m1\u001b[39m, N \u001b[38;5;241m+\u001b[39m \u001b[38;5;241m1\u001b[39m) :\n\u001b[1;32m---> 21\u001b[0m         \u001b[38;5;28;01mif\u001b[39;00m (\u001b[43mN\u001b[49m\u001b[43m \u001b[49m\u001b[38;5;241;43m%\u001b[39;49m\u001b[43m \u001b[49m\u001b[43mi\u001b[49m \u001b[38;5;241m==\u001b[39m \u001b[38;5;241m0\u001b[39m \u001b[38;5;129;01mand\u001b[39;00m\n\u001b[0;32m     22\u001b[0m                 isPrime(i)) :\n\u001b[0;32m     23\u001b[0m \u001b[38;5;66;03m#             sympy.isprime(i)):\u001b[39;00m\n\u001b[0;32m     24\u001b[0m  \n\u001b[0;32m     25\u001b[0m             \u001b[38;5;66;03m# Check if N is\u001b[39;00m\n\u001b[0;32m     26\u001b[0m             \u001b[38;5;66;03m# divisible by i^2\u001b[39;00m\n\u001b[0;32m     27\u001b[0m             \u001b[38;5;28;01mif\u001b[39;00m (N \u001b[38;5;241m%\u001b[39m (i \u001b[38;5;241m*\u001b[39m i) \u001b[38;5;241m==\u001b[39m \u001b[38;5;241m0\u001b[39m) :\n\u001b[0;32m     28\u001b[0m                 \u001b[38;5;28;01mreturn\u001b[39;00m \u001b[38;5;241m0\u001b[39m\n",
      "\u001b[1;31mKeyboardInterrupt\u001b[0m: "
     ]
    }
   ],
   "source": [
    "sum=0\n",
    "n=10**6\n",
    "i=n+1\n",
    "for k in tqdm(range(1,i)):\n",
    "    sum=sum+(mobius(510510*k)*math.floor((n)/k)*(1+(math.floor((n)/k))))\n",
    "print(.5*sum)"
   ]
  },
  {
   "cell_type": "code",
   "execution_count": null,
   "id": "8ef52a4a",
   "metadata": {},
   "outputs": [],
   "source": []
  }
 ],
 "metadata": {
  "kernelspec": {
   "display_name": "Python 3 (ipykernel)",
   "language": "python",
   "name": "python3"
  },
  "language_info": {
   "codemirror_mode": {
    "name": "ipython",
    "version": 3
   },
   "file_extension": ".py",
   "mimetype": "text/x-python",
   "name": "python",
   "nbconvert_exporter": "python",
   "pygments_lexer": "ipython3",
   "version": "3.9.13"
  }
 },
 "nbformat": 4,
 "nbformat_minor": 5
}
