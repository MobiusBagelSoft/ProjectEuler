{
 "cells": [
  {
   "cell_type": "code",
   "execution_count": 1,
   "id": "6672aab7",
   "metadata": {},
   "outputs": [],
   "source": [
    "from tqdm import tqdm"
   ]
  },
  {
   "cell_type": "code",
   "execution_count": 2,
   "id": "f62b3c77",
   "metadata": {},
   "outputs": [],
   "source": [
    "a=[]\n",
    "# n=10**4\n",
    "n=10\n",
    "for i in range (2,n+1):\n",
    "    a.append(i)"
   ]
  },
  {
   "cell_type": "code",
   "execution_count": 3,
   "id": "559abd80",
   "metadata": {},
   "outputs": [
    {
     "name": "stdout",
     "output_type": "stream",
     "text": [
      "9\n"
     ]
    }
   ],
   "source": [
    "print(len(a))"
   ]
  },
  {
   "cell_type": "code",
   "execution_count": 4,
   "id": "2185a91c",
   "metadata": {},
   "outputs": [],
   "source": [
    "# for i in tqdm(range(10**16)):\n",
    "# # for i in tqdm(range(100)):\n",
    "#     b=min(a) \n",
    "#     a[a.index(min(a))] = (b*b) "
   ]
  },
  {
   "cell_type": "code",
   "execution_count": null,
   "id": "febffa62",
   "metadata": {},
   "outputs": [],
   "source": [
    "counter=0\n",
    "# while counter !=1000100010001:\n",
    "while counter !=11:\n",
    "    for i in range(len(a)):\n",
    "        a[i]=a[i]*a[i]\n",
    "\n",
    "\n",
    "    \n",
    "        counter=counter+1\n",
    "a[0]=a[0]*a[0]"
   ]
  },
  {
   "cell_type": "code",
   "execution_count": null,
   "id": "373a225e",
   "metadata": {},
   "outputs": [],
   "source": [
    "sum(a) % 1234567891"
   ]
  },
  {
   "cell_type": "code",
   "execution_count": null,
   "id": "7653af00",
   "metadata": {},
   "outputs": [],
   "source": []
  }
 ],
 "metadata": {
  "kernelspec": {
   "display_name": "Python 3 (ipykernel)",
   "language": "python",
   "name": "python3"
  },
  "language_info": {
   "codemirror_mode": {
    "name": "ipython",
    "version": 3
   },
   "file_extension": ".py",
   "mimetype": "text/x-python",
   "name": "python",
   "nbconvert_exporter": "python",
   "pygments_lexer": "ipython3",
   "version": "3.9.13"
  }
 },
 "nbformat": 4,
 "nbformat_minor": 5
}
